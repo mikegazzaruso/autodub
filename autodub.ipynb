{
  "cells": [
    {
      "cell_type": "markdown",
      "metadata": {
        "id": "m8WOyEfhQhSc"
      },
      "source": [
        "# Video Translator con Clonazione Vocale\n",
        "\n",
        "Questo notebook dimostra come utilizzare il progetto Video Translator per tradurre video con clonazione vocale e sincronizzazione avanzata.\n",
        "\n",
        "**Versione:** 0.5.1\n",
        "\n",
        "## Caratteristiche\n",
        "- Trascrizione automatica del parlato utilizzando Whisper\n",
        "- Traduzione automatica del testo trascritto utilizzando MBart\n",
        "- Clonazione vocale e sintesi vocale con Tortoise-TTS\n",
        "- Separazione di voci e musica di sottofondo utilizzando Demucs\n",
        "- Sincronizzazione avanzata con rilevamento delle pause naturali\n",
        "- Analisi completa delle metriche di sincronizzazione\n",
        "- Gestione migliorata della cache per i campioni vocali"
      ]
    },
    {
      "cell_type": "markdown",
      "metadata": {
        "id": "UhwJruW5QhSf"
      },
      "source": [
        "## 1. Installazione\n",
        "\n",
        "Prima di tutto, cloniamo il repository e installiamo le dipendenze necessarie:"
      ]
    },
    {
      "cell_type": "code",
      "execution_count": null,
      "metadata": {
        "id": "gKh67-VSQhSg"
      },
      "outputs": [],
      "source": [
        "# Clona il repository\n",
        "!git clone https://github.com/mikegazzaruso/video_translator.git\n",
        "%cd video_translator\n",
        "\n",
        "# Installa le dipendenze\n",
        "!pip install -r requirements.txt\n",
        "\n",
        "# Installa ffmpeg se non \u00c3\u00a8 gi\u00c3\u00a0 installato\n",
        "!apt-get update\n",
        "!apt-get install -y ffmpeg"
      ]
    },
    {
      "cell_type": "markdown",
      "metadata": {
        "id": "G9V-OjBTQhSj"
      },
      "source": [
        "## 2. Carica il Video\n",
        "\n",
        "Carica il video che desideri tradurre:"
      ]
    },
    {
      "cell_type": "code",
      "execution_count": null,
      "metadata": {
        "id": "ZLmq2puyQhSm"
      },
      "outputs": [],
      "source": [
        "%cd video_translator\n",
        "from google.colab import files\n",
        "import os\n",
        "\n",
        "# Crea una directory per i file di input\n",
        "!mkdir -p input_files\n",
        "\n",
        "# Carica il file video\n",
        "print(\"Carica il tuo video:\")\n",
        "uploaded = files.upload()\n",
        "input_video_path = list(uploaded.keys())[0]\n",
        "!mv \"$input_video_path\" input_files/\n",
        "input_video_path = f\"input_files/{input_video_path}\"\n",
        "print(f\"Video caricato in: {input_video_path}\")"
      ]
    },
    {
      "cell_type": "markdown",
      "metadata": {
        "id": "UfuSaJgfQhSn"
      },
      "source": [
        "## 3. Carica i Campioni Vocali (Opzionale)\n",
        "\n",
        "Se vuoi clonare una voce specifica, carica i campioni vocali (file WAV):"
      ]
    },
    {
      "cell_type": "code",
      "execution_count": null,
      "metadata": {
        "id": "yYh0YDBOQhSp"
      },
      "outputs": [],
      "source": [
        "# Crea una directory per i campioni vocali\n",
        "!mkdir -p voice_samples\n",
        "\n",
        "# Carica i campioni vocali\n",
        "print(\"Carica i campioni vocali (file WAV):\")\n",
        "uploaded_voices = files.upload()\n",
        "for filename in uploaded_voices.keys():\n",
        "    !mv \"$filename\" voice_samples/\n",
        "    print(f\"Campione vocale caricato: {filename}\")\n",
        "\n",
        "voice_samples_dir = \"voice_samples\""
      ]
    },
    {
      "cell_type": "markdown",
      "metadata": {
        "id": "dTCKxf__QhSq"
      },
      "source": [
        "## 4. Configura le Opzioni di Sincronizzazione\n",
        "\n",
        "Imposta le opzioni di sincronizzazione per un migliore allineamento tra l'audio originale e quello tradotto:"
      ]
    },
    {
      "cell_type": "code",
      "execution_count": null,
      "metadata": {
        "id": "dLTgEk5rQhSr"
      },
      "outputs": [],
      "source": [
        "import json\n",
        "\n",
        "# Definisci le opzioni di sincronizzazione\n",
        "sync_options = {\n",
        "    \"max_speed_factor\": 1.3,        # Fattore massimo di accelerazione\n",
        "    \"min_speed_factor\": 0.8,        # Fattore minimo di rallentamento\n",
        "    \"pause_threshold\": -35,         # Soglia dB per il rilevamento delle pause\n",
        "    \"min_pause_duration\": 150,      # Durata minima della pausa in ms\n",
        "    \"adaptive_timing\": True,        # Usa timing adattivo basato sulla lingua\n",
        "    \"preserve_sentence_breaks\": True # Preserva le pause tra le frasi\n",
        "}\n",
        "\n",
        "# Salva le opzioni di sincronizzazione in un file\n",
        "with open(\"sync_config.json\", \"w\") as f:\n",
        "    json.dump(sync_options, f, indent=2)\n",
        "\n",
        "print(\"Opzioni di sincronizzazione salvate in sync_config.json\")"
      ]
    },
    {
      "cell_type": "markdown",
      "metadata": {
        "id": "HJohdfmNQhSr"
      },
      "source": [
        "## 5. Traduci il Video\n",
        "\n",
        "Ora, traduciamo il video utilizzando lo script autodub.py. Puoi utilizzare varie opzioni di gestione della cache:\n",
        "\n",
        "- `--no-cache`: Disabilita completamente la cache (forza la generazione di nuovi conditioning latents)\n",
        "- `--clear-cache`: Cancella tutti i dati nella cache prima dell'elaborazione\n",
        "- `--clear-voice-cache`: Cancella solo la cache vocale prima dell'elaborazione\n",
        "\n",
        "Per questo esempio, useremo le impostazioni di cache predefinite:"
      ]
    },
    {
      "cell_type": "code",
      "execution_count": null,
      "metadata": {
        "id": "Nxuu8OL5QhSs"
      },
      "outputs": [],
      "source": [
        "# @title\n",
        "# Definisci il percorso di output\n",
        "output_video_path = \"output_video.mp4\"\n",
        "\n",
        "# Definisci le lingue di origine e destinazione\n",
        "source_lang = \"it\"  # Italiano\n",
        "target_lang = \"en\"  # Inglese\n",
        "\n",
        "# Esegui lo script di traduzione\n",
        "!python autodub.py \\\n",
        "    --input \"$input_video_path\" \\\n",
        "    --output \"$output_video_path\" \\\n",
        "    --source-lang \"$source_lang\" \\\n",
        "    --target-lang \"$target_lang\" \\\n",
        "    --voice-samples \"$voice_samples_dir\" \\\n",
        "    --sync-config \"sync_config.json\" \\\n",
        "    --keep-temp"
      ]
    },
    {
      "cell_type": "markdown",
      "metadata": {
        "id": "7P-L-ddKQhSs"
      },
      "source": [
        "## 6. Analizza le Metriche di Sincronizzazione\n",
        "\n",
        "Analizziamo le metriche di sincronizzazione per valutare la qualit\u00c3\u00a0 della traduzione:"
      ]
    },
    {
      "cell_type": "code",
      "execution_count": null,
      "metadata": {
        "id": "PKvrPNebQhSt"
      },
      "outputs": [],
      "source": [
        "import json\n",
        "import matplotlib.pyplot as plt\n",
        "import numpy as np\n",
        "import os\n",
        "\n",
        "# Trova il file delle metriche di sincronizzazione\n",
        "conversions_dir = \"conversions\"\n",
        "latest_dir = sorted([os.path.join(conversions_dir, d) for d in os.listdir(conversions_dir) if os.path.isdir(os.path.join(conversions_dir, d))], key=os.path.getmtime)[-1]\n",
        "metrics_file = os.path.join(latest_dir, \"sync_metrics.json\")\n",
        "\n",
        "# Carica le metriche di sincronizzazione\n",
        "with open(metrics_file, \"r\") as f:\n",
        "    metrics = json.load(f)\n",
        "\n",
        "# Stampa le metriche di sincronizzazione\n",
        "print(\"Metriche di Qualit\u00c3\u00a0 della Sincronizzazione:\")\n",
        "print(f\"  Punteggio di allineamento complessivo: {metrics['overall_alignment_score']:.2f}\")\n",
        "print(f\"  Punteggio DTW: {metrics['dtw_score']:.2f}\")\n",
        "print(f\"  Errore medio di timing: {metrics['avg_timing_error']:.2f} ms\")\n",
        "print(f\"  Errore massimo di timing: {metrics['max_timing_error']:.2f} ms\")\n",
        "print(f\"  Percentuale di segmenti ben allineati: {metrics['percent_well_aligned']:.1f}%\")\n",
        "\n",
        "# Visualizza i punteggi dei segmenti\n",
        "segment_scores = [segment['sync_score'] for segment in metrics['segment_scores']]\n",
        "segment_delays = [segment['delay'] for segment in metrics['segment_scores']]\n",
        "\n",
        "fig, (ax1, ax2) = plt.subplots(2, 1, figsize=(10, 8))\n",
        "\n",
        "# Visualizza i punteggi di sincronizzazione\n",
        "ax1.bar(range(len(segment_scores)), segment_scores, color='skyblue')\n",
        "ax1.set_title('Punteggi di Sincronizzazione dei Segmenti')\n",
        "ax1.set_xlabel('Indice del Segmento')\n",
        "ax1.set_ylabel('Punteggio di Sincronizzazione')\n",
        "ax1.axhline(y=70, color='r', linestyle='--', label='Soglia di Buona Sincronizzazione')\n",
        "ax1.legend()\n",
        "\n",
        "# Visualizza i ritardi di timing\n",
        "ax2.bar(range(len(segment_delays)), segment_delays, color='lightgreen')\n",
        "ax2.set_title('Ritardi di Timing dei Segmenti')\n",
        "ax2.set_xlabel('Indice del Segmento')\n",
        "ax2.set_ylabel('Ritardo (ms)')\n",
        "ax2.axhline(y=0, color='k', linestyle='-')\n",
        "ax2.axhline(y=100, color='r', linestyle='--', label='Soglia di Ritardo Accettabile')\n",
        "ax2.axhline(y=-100, color='r', linestyle='--')\n",
        "ax2.legend()\n",
        "\n",
        "plt.tight_layout()\n",
        "plt.show()"
      ]
    },
    {
      "cell_type": "markdown",
      "metadata": {
        "id": "bCJr-gLuQhSt"
      },
      "source": [
        "## 7. Visualizza e Scarica il Video Tradotto\n",
        "\n",
        "Infine, visualizziamo e scarichiamo il video tradotto:"
      ]
    },
    {
      "cell_type": "code",
      "execution_count": null,
      "metadata": {
        "id": "BmHa-7fAQhSt"
      },
      "outputs": [],
      "source": [
        "from IPython.display import HTML\n",
        "from base64 import b64encode\n",
        "\n",
        "# Visualizza il video\n",
        "mp4 = open(output_video_path, 'rb').read()\n",
        "data_url = f\"data:video/mp4;base64,{b64encode(mp4).decode()}\"\n",
        "HTML(f\"\"\"\n",
        "<video width=\"640\" height=\"360\" controls>\n",
        "  <source src=\"{data_url}\" type=\"video/mp4\">\n",
        "</video>\n",
        "\"\"\")"
      ]
    },
    {
      "cell_type": "code",
      "execution_count": null,
      "metadata": {
        "id": "9foCpFluQhSt"
      },
      "outputs": [],
      "source": [
        "# Scarica il video tradotto\n",
        "files.download(output_video_path)\n",
        "\n",
        "# Trova e scarica il file di visualizzazione della sincronizzazione\n",
        "visualization_file = os.path.join(latest_dir, \"sync_debug.wav\")\n",
        "if os.path.exists(visualization_file):\n",
        "    print(\"Scaricando il file di visualizzazione della sincronizzazione...\")\n",
        "    files.download(visualization_file)"
      ]
    }
  ],
  "metadata": {
    "accelerator": "GPU",
    "colab": {
      "gpuType": "L4",
      "machine_shape": "hm",
      "provenance": []
    },
    "kernelspec": {
      "display_name": "Python 3",
      "name": "python3"
    },
    "language_info": {
      "codemirror_mode": {
        "name": "ipython",
        "version": 3
      },
      "file_extension": ".py",
      "mimetype": "text/x-python",
      "name": "python",
      "nbconvert_exporter": "python",
      "pygments_lexer": "ipython3",
      "version": "3.8.10"
    }
  },
  "nbformat": 4,
  "nbformat_minor": 0
}