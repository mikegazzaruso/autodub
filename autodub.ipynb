{
 "cells": [
  {
   "cell_type": "markdown",
   "metadata": {},
   "source": [
    "# Video Translator with Voice Cloning\n",
    "\n",
    "This notebook demonstrates how to use the Video Translator project to translate videos with voice cloning and advanced synchronization.\n",
    "\n",
    "**Version:** 0.3.0\n",
    "\n",
    "## Features\n",
    "- Automated speech-to-text transcription using Whisper\n",
    "- Machine translation of transcribed text using MBart\n",
    "- Voice cloning and text-to-speech synthesis with Tortoise-TTS\n",
    "- Separation of vocals and background music using Demucs\n",
    "- Advanced synchronization with natural pause detection\n",
    "- Comprehensive synchronization metrics analysis"
   ]
  },
  {
   "cell_type": "markdown",
   "metadata": {},
   "source": [
    "## 1. Installation\n",
    "\n",
    "First, let's clone the repository and install the required dependencies:"
   ]
  },
  {
   "cell_type": "code",
   "execution_count": null,
   "metadata": {},
   "outputs": [],
   "source": [
    "# Clone the repository\n",
    "!git clone https://github.com/yourusername/video-translator.git\n",
    "%cd video-translator\n",
    "\n",
    "# Install dependencies\n",
    "!pip install -r requirements.txt"
   ]
  },
  {
   "cell_type": "markdown",
   "metadata": {},
   "source": [
    "## 2. Upload Video\n",
    "\n",
    "Upload the video you want to translate:"
   ]
  },
  {
   "cell_type": "code",
   "execution_count": null,
   "metadata": {},
   "outputs": [],
   "source": [
    "from google.colab import files\n",
    "import os\n",
    "\n",
    "# Create directory for input files\n",
    "!mkdir -p input_files\n",
    "\n",
    "# Upload video file\n",
    "uploaded = files.upload()\n",
    "input_video_path = list(uploaded.keys())[0]\n",
    "!mv \"$input_video_path\" input_files/\n",
    "input_video_path = f\"input_files/{input_video_path}\"\n",
    "print(f\"Video uploaded to: {input_video_path}\")"
   ]
  },
  {
   "cell_type": "markdown",
   "metadata": {},
   "source": [
    "## 3. Upload Voice Samples (Optional)\n",
    "\n",
    "If you want to clone a specific voice, upload voice samples (WAV files):"
   ]
  },
  {
   "cell_type": "code",
   "execution_count": null,
   "metadata": {},
   "outputs": [],
   "source": [
    "# Create directory for voice samples\n",
    "!mkdir -p voice_samples\n",
    "\n",
    "# Upload voice samples\n",
    "print(\"Upload voice samples (WAV files):\")\n",
    "uploaded_voices = files.upload()\n",
    "for filename in uploaded_voices.keys():\n",
    "    !mv \"$filename\" voice_samples/\n",
    "    print(f\"Voice sample uploaded: {filename}\")\n",
    "\n",
    "voice_samples_dir = \"voice_samples\""
   ]
  },
  {
   "cell_type": "markdown",
   "metadata": {},
   "source": [
    "## 4. Configure Synchronization Options\n",
    "\n",
    "Set up synchronization options for better alignment between original and translated audio:"
   ]
  },
  {
   "cell_type": "code",
   "execution_count": null,
   "metadata": {},
   "outputs": [],
   "source": [
    "import json\n",
    "\n",
    "# Define synchronization options\n",
    "sync_options = {\n",
    "    \"max_speed_factor\": 1.3,        # Maximum speed up factor\n",
    "    \"min_speed_factor\": 0.8,        # Minimum slow down factor\n",
    "    \"pause_threshold\": -35,         # dB threshold for pause detection\n",
    "    \"min_pause_duration\": 150,      # Minimum pause duration in ms\n",
    "    \"adaptive_timing\": True,        # Use adaptive timing based on language\n",
    "    \"preserve_sentence_breaks\": True # Preserve pauses between sentences\n",
    "}\n",
    "\n",
    "# Save synchronization options to a file\n",
    "with open(\"sync_config.json\", \"w\") as f:\n",
    "    json.dump(sync_options, f, indent=2)\n",
    "\n",
    "print(\"Synchronization options saved to sync_config.json\")"
   ]
  },
  {
   "cell_type": "markdown",
   "metadata": {},
   "source": [
    "## 5. Translate Video\n",
    "\n",
    "Now, let's translate the video using the autodub.py script:"
   ]
  },
  {
   "cell_type": "code",
   "execution_count": null,
   "metadata": {},
   "outputs": [],
   "source": [
    "# Define output path\n",
    "output_video_path = \"output_video.mp4\"\n",
    "\n",
    "# Define source and target languages\n",
    "source_lang = \"it\"  # Italian\n",
    "target_lang = \"en\"  # English\n",
    "\n",
    "# Run the translation script\n",
    "!python autodub.py \\\n",
    "    --input \"$input_video_path\" \\\n",
    "    --output \"$output_video_path\" \\\n",
    "    --source-lang \"$source_lang\" \\\n",
    "    --target-lang \"$target_lang\" \\\n",
    "    --voice-samples \"$voice_samples_dir\" \\\n",
    "    --sync-config \"sync_config.json\" \\\n",
    "    --keep-temp"
   ]
  },
  {
   "cell_type": "markdown",
   "metadata": {},
   "source": [
    "## 6. Analyze Synchronization Metrics\n",
    "\n",
    "Let's analyze the synchronization metrics to evaluate the quality of the translation:"
   ]
  },
  {
   "cell_type": "code",
   "execution_count": null,
   "metadata": {},
   "outputs": [],
   "source": [
    "import json\n",
    "import matplotlib.pyplot as plt\n",
    "import numpy as np\n",
    "\n",
    "# Load synchronization metrics\n",
    "with open(\"sync_metrics.json\", \"r\") as f:\n",
    "    metrics = json.load(f)\n",
    "\n",
    "# Print synchronization metrics\n",
    "print(\"Synchronization Quality Metrics:\")\n",
    "print(f\"  Overall alignment score: {metrics['overall_alignment_score']:.2f}\")\n",
    "print(f\"  DTW score: {metrics['dtw_score']:.2f}\")\n",
    "print(f\"  Average timing error: {metrics['avg_timing_error']:.2f} ms\")\n",
    "print(f\"  Max timing error: {metrics['max_timing_error']:.2f} ms\")\n",
    "print(f\"  Percentage of well-aligned segments: {metrics['percent_well_aligned']:.1f}%\")\n",
    "\n",
    "# Plot segment scores\n",
    "segment_scores = [segment['sync_score'] for segment in metrics['segments']]\n",
    "segment_delays = [segment['delay'] for segment in metrics['segments']]\n",
    "\n",
    "fig, (ax1, ax2) = plt.subplots(2, 1, figsize=(10, 8))\n",
    "\n",
    "# Plot sync scores\n",
    "ax1.bar(range(len(segment_scores)), segment_scores, color='skyblue')\n",
    "ax1.set_title('Segment Synchronization Scores')\n",
    "ax1.set_xlabel('Segment Index')\n",
    "ax1.set_ylabel('Sync Score')\n",
    "ax1.axhline(y=70, color='r', linestyle='--', label='Good Sync Threshold')\n",
    "ax1.legend()\n",
    "\n",
    "# Plot timing delays\n",
    "ax2.bar(range(len(segment_delays)), segment_delays, color='lightgreen')\n",
    "ax2.set_title('Segment Timing Delays')\n",
    "ax2.set_xlabel('Segment Index')\n",
    "ax2.set_ylabel('Delay (ms)')\n",
    "ax2.axhline(y=0, color='k', linestyle='-')\n",
    "ax2.axhline(y=100, color='r', linestyle='--', label='Acceptable Delay Threshold')\n",
    "ax2.axhline(y=-100, color='r', linestyle='--')\n",
    "ax2.legend()\n",
    "\n",
    "plt.tight_layout()\n",
    "plt.show()"
   ]
  },
  {
   "cell_type": "markdown",
   "metadata": {},
   "source": [
    "## 7. Visualize and Download Translated Video\n",
    "\n",
    "Finally, let's visualize and download the translated video:"
   ]
  },
  {
   "cell_type": "code",
   "execution_count": null,
   "metadata": {},
   "outputs": [],
   "source": [
    "from IPython.display import HTML\n",
    "from base64 import b64encode\n",
    "\n",
    "# Display the video\n",
    "mp4 = open(output_video_path, 'rb').read()\n",
    "data_url = f\"data:video/mp4;base64,{b64encode(mp4).decode()}\"\n",
    "HTML(f\"\"\"\n",
    "<video width=\"640\" height=\"360\" controls>\n",
    "  <source src=\"{data_url}\" type=\"video/mp4\">\n",
    "</video>\n",
    "\"\"\")"
   ]
  },
  {
   "cell_type": "code",
   "execution_count": null,
   "metadata": {},
   "outputs": [],
   "source": [
    "# Download the translated video\n",
    "files.download(output_video_path)\n",
    "\n",
    "# Download the synchronization visualization (if available)\n",
    "if 'visualization_file' in metrics and os.path.exists(metrics['visualization_file']):\n",
    "    files.download(metrics['visualization_file'])"
   ]
  }
 ],
 "metadata": {
  "kernelspec": {
   "display_name": "Python 3",
   "language": "python",
   "name": "python3"
  },
  "language_info": {
   "codemirror_mode": {
    "name": "ipython",
    "version": 3
   },
   "file_extension": ".py",
   "mimetype": "text/x-python",
   "name": "python",
   "nbconvert_exporter": "python",
   "pygments_lexer": "ipython3",
   "version": "3.8.10"
  }
 },
 "nbformat": 4,
 "nbformat_minor": 4
}